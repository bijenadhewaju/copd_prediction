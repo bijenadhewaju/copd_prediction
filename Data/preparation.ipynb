{
 "cells": [
  {
   "cell_type": "markdown",
   "metadata": {},
   "source": [
    "# Data Collection\n",
    "\n",
    "## Identify the data sources\n",
    "- Health Data Portals: WHO, World Bank, Nepal's Ministry of Health\n",
    "- Research Papers: Google Scholar\n",
    "- Public Datasets: Kaggle, Data.gov, Open Data Nepal\n",
    "- Hospitals and Clinics"
   ]
  },
  {
   "cell_type": "markdown",
   "metadata": {},
   "source": [
    "# References\n",
    "- https://www.worldbank.org/en/search?q=chronic+onstructive+pulmonary+disease\n",
    "- https://www.who.int/home/search-results?indexCatalogue=genericsearchindex1&searchQuery=chronic%20obstructive%20pulmonary%20disease&wordsMode=AnyWord\n",
    "- https://www.ncbi.nlm.nih.gov/pmc/articles/PMC5810531/\n",
    "- https://www.dovepress.com/factors-associated-with-chronic-obstructive-pulmonary-diseases-in-nepa-peer-reviewed-fulltext-article-COPD\n",
    "- https://www.tandfonline.com/doi/pdf/10.2147/COPD.S268110\n",
    "- https://github.com/phenoflow/Chronic-Obstructive-Pulmonary-Disease---9387f040-1873-11ef-9de4-4d4ea830ad16?tab=readme-ov-file"
   ]
  },
  {
   "cell_type": "code",
   "execution_count": null,
   "metadata": {},
   "outputs": [],
   "source": [
    "# "
   ]
  }
 ],
 "metadata": {
  "language_info": {
   "name": "python"
  }
 },
 "nbformat": 4,
 "nbformat_minor": 2
}
